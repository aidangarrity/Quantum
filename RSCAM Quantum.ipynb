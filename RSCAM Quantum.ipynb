{
 "cells": [
  {
   "cell_type": "code",
   "execution_count": 2,
   "id": "f5d79311",
   "metadata": {},
   "outputs": [
    {
     "name": "stdout",
     "output_type": "stream",
     "text": [
      "Collecting qubovert\n",
      "  Downloading qubovert-1.2.5-cp39-cp39-win_amd64.whl (167 kB)\n",
      "Requirement already satisfied: numpy in c:\\users\\trist\\anaconda3\\lib\\site-packages (from qubovert) (1.21.5)\n",
      "Installing collected packages: qubovert\n",
      "Successfully installed qubovert-1.2.5\n"
     ]
    }
   ],
   "source": [
    "!pip install qubovert"
   ]
  },
  {
   "cell_type": "code",
   "execution_count": 1,
   "id": "5eb40066",
   "metadata": {},
   "outputs": [],
   "source": [
    "import pyqubo as pq\n",
    "import numpy as np\n",
    "import qubovert as qv"
   ]
  },
  {
   "cell_type": "code",
   "execution_count": 2,
   "id": "40846221",
   "metadata": {},
   "outputs": [
    {
     "name": "stdout",
     "output_type": "stream",
     "text": [
      "[[0. 0. 0. 0. 0.]\n",
      " [0. 0. 0. 0. 0.]\n",
      " [0. 0. 0. 0. 0.]]\n"
     ]
    },
    {
     "data": {
      "text/plain": [
       "array([[0., 0., 0., 1., 0.],\n",
       "       [0., 1., 0., 1., 0.],\n",
       "       [1., 0., 1., 1., 1.]])"
      ]
     },
     "execution_count": 2,
     "metadata": {},
     "output_type": "execute_result"
    }
   ],
   "source": [
    "def chi(precision, number):\n",
    "    # number must be between 0 and 2\n",
    "    q = np.zeros((number.size, precision))\n",
    "    print(q)\n",
    "    for i in range(len(number)):\n",
    "        for r in range(precision):\n",
    "            if number[i] < 2**(-r):\n",
    "                q[i,r]=0\n",
    "            else:\n",
    "                q[i,r]=1\n",
    "                number[i] -= 2**(-r)\n",
    "    return q\n",
    "\n",
    "test = np.array([.126,.6721,1.46])\n",
    "chi(5, test)\n",
    "\n",
    "\n"
   ]
  },
  {
   "cell_type": "code",
   "execution_count": 180,
   "id": "7556ac1d",
   "metadata": {},
   "outputs": [
    {
     "name": "stdout",
     "output_type": "stream",
     "text": [
      "13.5\n"
     ]
    },
    {
     "data": {
      "text/plain": [
       "array([6.5])"
      ]
     },
     "execution_count": 180,
     "metadata": {},
     "output_type": "execute_result"
    }
   ],
   "source": [
    "def ConvertSolution_old(q, a, b):\n",
    "    '''\n",
    "    Function to convert an array of qubits into a real number \n",
    "    '''\n",
    "    \n",
    "    # Store length of q vector\n",
    "    n = np.shape(q)[0]\n",
    "    \n",
    "    # Initialise chi\n",
    "    chi = 0\n",
    "    \n",
    "    for i in range(n):\n",
    "        chi += (2 ** (-i)) * q[i]\n",
    "    #print('.',chi)\n",
    "    \n",
    "    gamma = (b - a)/2\n",
    "    x = gamma * chi - 1\n",
    "    \n",
    "    return x\n",
    "\n",
    "def ConvertSolution(q, a, b):\n",
    "    '''\n",
    "    Vectorised function to convert an array of an array of qubits into an array of real numbers\n",
    "    '''\n",
    "    q = np.array(q)\n",
    "    \n",
    "    if len(np.shape(q))==1: # Backwards compatibility\n",
    "        q = np.array([q])\n",
    "        #return ConvertSolution_old(q,a,b)\n",
    "    \n",
    "    # Convert to binary\n",
    "    shape = q.shape # shape\n",
    "    powers = 2.**np.arange(0,-shape[-1],-1) # powers of 2 in descending\n",
    "    chi = np.sum(q*powers,axis=1) # multiply in\n",
    "    #print('.',chi)\n",
    "    \n",
    "    # Scale and shift\n",
    "    gamma = (b - a)/2\n",
    "    #print(gamma)\n",
    "    x = gamma * chi + a\n",
    "    \n",
    "    return x\n",
    "\n",
    "    \n",
    "    \n",
    "#ConvertSolution([0, 1, 1, 1, 1, 0, 1, 1, 0, 0], -1, 3)\n",
    "print(ConvertSolution_old([1,1,1,0,1], -8, 8))\n",
    "ConvertSolution([1,1,1,0,1], -8, 8)"
   ]
  },
  {
   "cell_type": "code",
   "execution_count": null,
   "id": "f2135b9a",
   "metadata": {},
   "outputs": [],
   "source": []
  },
  {
   "cell_type": "code",
   "execution_count": 344,
   "id": "1f725027",
   "metadata": {},
   "outputs": [
    {
     "name": "stdout",
     "output_type": "stream",
     "text": [
      "Precision: 1.0\n",
      "[[ 2.528e+03  3.328e+03  1.664e+03  8.320e+02  4.160e+02  5.120e+02\n",
      "   2.560e+02  1.280e+02  6.400e+01  3.200e+01]\n",
      " [ 0.000e+00  4.320e+02  8.320e+02  4.160e+02  2.080e+02  2.560e+02\n",
      "   1.280e+02  6.400e+01  3.200e+01  1.600e+01]\n",
      " [ 0.000e+00  0.000e+00  8.000e+00  2.080e+02  1.040e+02  1.280e+02\n",
      "   6.400e+01  3.200e+01  1.600e+01  8.000e+00]\n",
      " [ 0.000e+00  0.000e+00  0.000e+00 -4.800e+01  5.200e+01  6.400e+01\n",
      "   3.200e+01  1.600e+01  8.000e+00  4.000e+00]\n",
      " [ 0.000e+00  0.000e+00  0.000e+00  0.000e+00 -3.700e+01  3.200e+01\n",
      "   1.600e+01  8.000e+00  4.000e+00  2.000e+00]\n",
      " [ 0.000e+00  0.000e+00  0.000e+00  0.000e+00  0.000e+00  4.800e+02\n",
      "   5.120e+02  2.560e+02  1.280e+02  6.400e+01]\n",
      " [ 0.000e+00  0.000e+00  0.000e+00  0.000e+00  0.000e+00  0.000e+00\n",
      "   1.120e+02  1.280e+02  6.400e+01  3.200e+01]\n",
      " [ 0.000e+00  0.000e+00  0.000e+00  0.000e+00  0.000e+00  0.000e+00\n",
      "   0.000e+00  2.400e+01  3.200e+01  1.600e+01]\n",
      " [ 0.000e+00  0.000e+00  0.000e+00  0.000e+00  0.000e+00  0.000e+00\n",
      "   0.000e+00  0.000e+00  4.000e+00  8.000e+00]\n",
      " [ 0.000e+00  0.000e+00  0.000e+00  0.000e+00  0.000e+00  0.000e+00\n",
      "   0.000e+00  0.000e+00  0.000e+00  0.000e+00]]\n",
      "[0, 0, 0, 1, 0, 0, 0, 0, 0, 0]\n",
      "[0, 0, 0, 1, 0] [0, 0, 0, 0, 0]\n",
      "[-14.]\n",
      "[-16.]\n"
     ]
    }
   ],
   "source": [
    "\n",
    "\n",
    "def H_old(M, y, R = 2, a = -1, b = 3):\n",
    "    '''\n",
    "    M and y come from problem Mx-y\n",
    "    R is bit-precision, ie number of qubits\n",
    "    a, b endpoints of desired range, a < b, [a,b)\n",
    "    \n",
    "    https://arxiv.org/pdf/1901.06526.pdf Section 3\n",
    "    '''\n",
    "    \n",
    "    # Think I need Q to be upper triangular, how best to do this?\n",
    "    # Need to add in the multiplication by pho 🍜 part as well!!\n",
    "    \n",
    "    \n",
    "    # Save the dimension of problem as N\n",
    "    N = np.shape(y)[0]\n",
    "\n",
    "    # Define the midpoint of the range, hard coded atm\n",
    "    gamma = (b - a)/2\n",
    "    pho = gamma ** 2\n",
    "    #print(gamma,pho)\n",
    "    print('Precision:',(b-a)/2**R)\n",
    "    \n",
    "    #Intialise Q as vector of zeros \n",
    "    Q = np.zeros((N * R, N * R))\n",
    "    \n",
    "    # First term \n",
    "    for i in range(N):\n",
    "        #print(f'i is {i}')\n",
    "        for r in range(R):\n",
    "            #print(f'r is {r}')\n",
    "            for j in range(N):\n",
    "                # print(f'j is {j}')\n",
    "                for s in range(R):\n",
    "                    # print(f's is {s}')\n",
    "                    for k in range(N):\n",
    "                        # print(f'k is {k}')\n",
    "                        \n",
    "                        # Update relevant entry of Q\n",
    "                        Q[i * R + r,j * R + s] += (2 ** (-r-s)) * M[k,i] * M[k,j] * pho\n",
    "                        \n",
    "                        \n",
    "    # Second term\n",
    "    # Loop over each number \n",
    "    for i in range(N):\n",
    "        # Loop over each qubit encoding said number\n",
    "        for r in range(R):\n",
    "            # Loop of k for matrix multiplication in index form\n",
    "            for k in range(N):\n",
    "                Q[i * R + r, i * R + r] += (2 ** (-r)) * M[k,i] * M[k,i] * -2 * gamma \n",
    "                \n",
    "    # Third term\n",
    "    # Loop over each number\n",
    "    for i in range(N):\n",
    "        # Loop over j for the matrix multiplication\n",
    "        for j in range(N):\n",
    "            # Loop over each qubit encoding the number\n",
    "            for r in range(R):\n",
    "                Q[i * R + r, i * R + r] +=  (2 ** (-r)) * M[j,i] * y[j]  * -2 * gamma \n",
    "                \n",
    "                \n",
    "#     # Fourth term (necessary?)\n",
    "#     for i in range(N):\n",
    "#         for j in range(N):\n",
    "#             Q\n",
    "    \n",
    "    # Make Q upper triangular\n",
    "    return Q+np.triu(Q)-np.tril(Q)\n",
    "\n",
    "A = np.array([[2,-1],[3,1]])\n",
    "B = np.array([3,2]) #soln = 1,-1\n",
    "\n",
    "\n",
    "a_test = -16\n",
    "b_test = 32+a_test # b-a needs to be power of 2\n",
    "accuracy = 5\n",
    "Q = H_old(A,B, R = accuracy, a = a_test, b = b_test)\n",
    "Q_qubo = qv.utils.matrix_to_qubo(Q)\n",
    "print(Q)\n",
    "#Q_qubo.solve_bruteforce()\n",
    "\n",
    "state = qv.sim.anneal_qubo(Q_qubo, num_anneals = 100*2**accuracy)\n",
    "res = list(state.best.state.values())\n",
    "print(res)\n",
    "x1 = res[:accuracy]\n",
    "x2 = res[accuracy:accuracy*2]\n",
    "print(x1,x2)\n",
    "print(ConvertSolution(x1,a_test,b_test))\n",
    "print(ConvertSolution(x2,a_test,b_test))"
   ]
  },
  {
   "cell_type": "code",
   "execution_count": 380,
   "id": "921c6b06",
   "metadata": {},
   "outputs": [
    {
     "name": "stdout",
     "output_type": "stream",
     "text": [
      "16.0 256.0\n",
      "Precision: 1.0\n",
      "[[-5.200000e+01  2.600000e+01  1.300000e+01  6.500000e+00  3.250000e+00\n",
      "   4.000000e+00  2.000000e+00  1.000000e+00  5.000000e-01  2.500000e-01]\n",
      " [ 2.600000e+01 -3.900000e+01  6.500000e+00  3.250000e+00  1.625000e+00\n",
      "   2.000000e+00  1.000000e+00  5.000000e-01  2.500000e-01  1.250000e-01]\n",
      " [ 1.300000e+01  6.500000e+00 -2.275000e+01  1.625000e+00  8.125000e-01\n",
      "   1.000000e+00  5.000000e-01  2.500000e-01  1.250000e-01  6.250000e-02]\n",
      " [ 6.500000e+00  3.250000e+00  1.625000e+00 -1.218750e+01  4.062500e-01\n",
      "   5.000000e-01  2.500000e-01  1.250000e-01  6.250000e-02  3.125000e-02]\n",
      " [ 3.250000e+00  1.625000e+00  8.125000e-01  4.062500e-01 -6.296875e+00\n",
      "   2.500000e-01  1.250000e-01  6.250000e-02  3.125000e-02  1.562500e-02]\n",
      " [ 4.000000e+00  2.000000e+00  1.000000e+00  5.000000e-01  2.500000e-01\n",
      "   0.000000e+00  4.000000e+00  2.000000e+00  1.000000e+00  5.000000e-01]\n",
      " [ 2.000000e+00  1.000000e+00  5.000000e-01  2.500000e-01  1.250000e-01\n",
      "   4.000000e+00 -2.000000e+00  1.000000e+00  5.000000e-01  2.500000e-01]\n",
      " [ 1.000000e+00  5.000000e-01  2.500000e-01  1.250000e-01  6.250000e-02\n",
      "   2.000000e+00  1.000000e+00 -1.500000e+00  2.500000e-01  1.250000e-01]\n",
      " [ 5.000000e-01  2.500000e-01  1.250000e-01  6.250000e-02  3.125000e-02\n",
      "   1.000000e+00  5.000000e-01  2.500000e-01 -8.750000e-01  6.250000e-02]\n",
      " [ 2.500000e-01  1.250000e-01  6.250000e-02  3.125000e-02  1.562500e-02\n",
      "   5.000000e-01  2.500000e-01  1.250000e-01  6.250000e-02 -4.687500e-01]]\n",
      "[[1 0 0 0 0]\n",
      " [0 0 0 0 0]]\n",
      "[  0. -16.]\n"
     ]
    }
   ],
   "source": [
    "def anneal(A,B,accuracy,a,b):\n",
    "    '''Outputs solution to Ax=b''' \n",
    "    # Err catch\n",
    "    assert a<b, 'a needs to be less than b'\n",
    "\n",
    "    # Calculation\n",
    "    Q = H(A,B, R = accuracy, a = a, b = b) # Get Q\n",
    "    Q_qubo = qv.utils.matrix_to_qubo(Q) # Convert to qubo\n",
    "    state = qv.sim.anneal_qubo(Q_qubo, num_anneals = 100*2**accuracy) # Pass to anneal\n",
    "    res = np.array(list(state.best.state.values())) # Result\n",
    "    x = res.reshape((len(res)//accuracy,accuracy)) # Split result for each component\n",
    "    print(x)\n",
    "    sol = ConvertSolution(x,a,b) # Convert each component to decimal\n",
    "    return sol\n",
    "\n",
    "\n",
    "A = np.array([[2,-1],[3,1]])\n",
    "B = np.array([3,2]) #soln = 1,-1\n",
    "sol = anneal(A,B,5,-16,16)\n",
    "print(sol)"
   ]
  },
  {
   "cell_type": "code",
   "execution_count": 381,
   "id": "2fb8ab97",
   "metadata": {},
   "outputs": [
    {
     "name": "stdout",
     "output_type": "stream",
     "text": [
      "16.0 256.0\n",
      "Precision: 1.0\n",
      "[[-8.        2.        1.        0.5       0.25      0.        0.\n",
      "   0.        0.        0.      ]\n",
      " [ 2.       -5.        0.5       0.25      0.125     0.        0.\n",
      "   0.        0.        0.      ]\n",
      " [ 1.        0.5      -2.75      0.125     0.0625    0.        0.\n",
      "   0.        0.        0.      ]\n",
      " [ 0.5       0.25      0.125    -1.4375    0.03125   0.        0.\n",
      "   0.        0.        0.      ]\n",
      " [ 0.25      0.125     0.0625    0.03125  -0.734375  0.        0.\n",
      "   0.        0.        0.      ]\n",
      " [ 0.        0.        0.        0.        0.        8.        2.\n",
      "   1.        0.5       0.25    ]\n",
      " [ 0.        0.        0.        0.        0.        2.        3.\n",
      "   0.5       0.25      0.125   ]\n",
      " [ 0.        0.        0.        0.        0.        1.        0.5\n",
      "   1.25      0.125     0.0625  ]\n",
      " [ 0.        0.        0.        0.        0.        0.5       0.25\n",
      "   0.125     0.5625    0.03125 ]\n",
      " [ 0.        0.        0.        0.        0.        0.25      0.125\n",
      "   0.0625    0.03125   0.265625]]\n",
      "[[1 1 0 0 0]\n",
      " [0 0 0 0 0]]\n",
      "[  8. -16.]\n"
     ]
    }
   ],
   "source": [
    "A = np.array([[2,-1],[3,1]])\n",
    "A = np.eye(2)\n",
    "C = np.array([2,-2]) \n",
    "B = A@C\n",
    "sol = anneal(A,B,5,-16,16)\n",
    "print(sol)"
   ]
  },
  {
   "cell_type": "code",
   "execution_count": 451,
   "id": "3481c254",
   "metadata": {},
   "outputs": [
    {
     "name": "stdout",
     "output_type": "stream",
     "text": [
      "16.0 256.0\n",
      "Precision: 2.0 Range: [-16,16)\n",
      "[[-5.248e+03  1.664e+03  8.320e+02  4.160e+02  2.560e+02  1.280e+02\n",
      "   6.400e+01  3.200e+01]\n",
      " [ 1.664e+03 -3.456e+03  4.160e+02  2.080e+02  1.280e+02  6.400e+01\n",
      "   3.200e+01  1.600e+01]\n",
      " [ 8.320e+02  4.160e+02 -1.936e+03  1.040e+02  6.400e+01  3.200e+01\n",
      "   1.600e+01  8.000e+00]\n",
      " [ 4.160e+02  2.080e+02  1.040e+02 -1.020e+03  3.200e+01  1.600e+01\n",
      "   8.000e+00  4.000e+00]\n",
      " [ 2.560e+02  1.280e+02  6.400e+01  3.200e+01 -6.400e+02  2.560e+02\n",
      "   1.280e+02  6.400e+01]\n",
      " [ 1.280e+02  6.400e+01  3.200e+01  1.600e+01  2.560e+02 -4.480e+02\n",
      "   6.400e+01  3.200e+01]\n",
      " [ 6.400e+01  3.200e+01  1.600e+01  8.000e+00  1.280e+02  6.400e+01\n",
      "  -2.560e+02  1.600e+01]\n",
      " [ 3.200e+01  1.600e+01  8.000e+00  4.000e+00  6.400e+01  3.200e+01\n",
      "   1.600e+01 -1.360e+02]]\n",
      "[[1 0 1 0]\n",
      " [0 1 0 0]]\n",
      "[ 4. -8.]\n"
     ]
    }
   ],
   "source": [
    "# assert 1==0, 'dont run below'\n",
    "\n",
    "def H(M, y, R = 2, a = -1, b = 3):\n",
    "    '''\n",
    "    M and y come from problem Mx-y\n",
    "    R is bit-precision, ie number of qubits\n",
    "    a, b endpoints of desired range, a < b, [a,b)\n",
    "    \n",
    "    https://arxiv.org/pdf/1901.06526.pdf Section 3, eq 3.17-18\n",
    "    ''' \n",
    "    \n",
    "    # Save the dimension of problem as N\n",
    "    N = np.shape(y)[0]\n",
    "\n",
    "    # Define the midpoint of the range, hard coded atm\n",
    "    gamma = (b - a)/2\n",
    "    pho = gamma ** 2 # 🍜\n",
    "    print(gamma,pho)\n",
    "    print('Precision:',(b-a)/2**R, f'Range: [{a},{b})')\n",
    "    \n",
    "    #Intialise Q as vector of zeros \n",
    "    Q = np.zeros((N * R, N * R))\n",
    "    \n",
    "    # Compute strengths\n",
    "    MTM = M.T@M\n",
    "    \n",
    "    strengths = np.zeros_like(Q)\n",
    "    for r in range(R):\n",
    "        for s in range(R): # nb. includes r=s, which is used for weights\n",
    "            block = pho * 2**(-r-s) * MTM\n",
    "            ind_s = np.arange(N)*R + s\n",
    "            ind_r = np.arange(N)*R + r\n",
    "            strengths[np.ix_(ind_s, ind_r)] += np.copy(block)\n",
    "    Q += np.copy(strengths)\n",
    "    \n",
    "    \n",
    "    # Compute weights\n",
    "    weights = np.zeros_like(Q)\n",
    "    \n",
    "    My = np.diag(M.T@y)\n",
    "    sumMTM = np.diag(np.sum(MTM, axis=1))\n",
    "    for r in range(R):\n",
    "        ind_r = np.arange(N)*R + r\n",
    "        block1 = 2*gamma *2**(-r) * -1 * My\n",
    "        block2 = -a*2*gamma *2**(-r) * -1 * sumMTM\n",
    "        weights[np.ix_(ind_r, ind_r)] += np.copy(block1) + np.copy(block2)\n",
    "    Q += np.copy(weights)\n",
    " \n",
    "\n",
    "    \n",
    "    \n",
    "    # Make Q upper triangular\n",
    "    print(Q)\n",
    "    return Q+np.triu(Q)-np.tril(Q)\n",
    "\n",
    "A = np.array([[2,-1],[3,1]])\n",
    "#A = np.eye(2)\n",
    "C = np.array([4,-8]) \n",
    "B = A@C\n",
    "\n",
    "a=-16\n",
    "b=16\n",
    "R=4\n",
    "\n",
    "sol = anneal(A,B,R,a,b)\n",
    "print(sol)\n"
   ]
  },
  {
   "cell_type": "code",
   "execution_count": 427,
   "id": "1feec62f",
   "metadata": {},
   "outputs": [
    {
     "name": "stdout",
     "output_type": "stream",
     "text": [
      "Precision: 1.0\n",
      "[[800. 832. 416. 208. 128.  64.  32.  16.]\n",
      " [  0. 192. 208. 104.  64.  32.  16.   8.]\n",
      " [  0.   0.  44.  52.  32.  16.   8.   4.]\n",
      " [  0.   0.   0.   9.  16.   8.   4.   2.]\n",
      " [  0.   0.   0.   0.  48. 128.  64.  32.]\n",
      " [  0.   0.   0.   0.   0.  -8.  32.  16.]\n",
      " [  0.   0.   0.   0.   0.   0. -12.   8.]\n",
      " [  0.   0.   0.   0.   0.   0.   0.  -8.]]\n",
      "[0, 0, 0, 0, 0, 0, 1, 0]\n",
      "[0, 0, 0, 0] [0, 0, 1, 0]\n",
      "[-8.]\n",
      "[-6.]\n"
     ]
    }
   ],
   "source": [
    "Q = H_old(A,B, R,a,b)\n",
    "print(Q)\n",
    "Q_qubo = qv.utils.matrix_to_qubo(Q)\n",
    "\n",
    "state = qv.sim.anneal_qubo(Q_qubo, num_anneals = 100*2**accuracy)\n",
    "res = list(state.best.state.values())\n",
    "print(res)\n",
    "x1 = res[:4]\n",
    "x2 = res[4:]\n",
    "print(x1,x2)\n",
    "print(ConvertSolution(x1,a,b))\n",
    "print(ConvertSolution(x2,a,b))"
   ]
  },
  {
   "cell_type": "code",
   "execution_count": 372,
   "id": "7dcc28c5",
   "metadata": {},
   "outputs": [
    {
     "data": {
      "text/plain": [
       "array([3, 2])"
      ]
     },
     "execution_count": 372,
     "metadata": {},
     "output_type": "execute_result"
    }
   ],
   "source": []
  },
  {
   "cell_type": "code",
   "execution_count": null,
   "id": "8b251ca8",
   "metadata": {},
   "outputs": [],
   "source": []
  },
  {
   "cell_type": "code",
   "execution_count": null,
   "id": "6c5de27d",
   "metadata": {},
   "outputs": [],
   "source": []
  },
  {
   "cell_type": "code",
   "execution_count": 167,
   "id": "eb19ae77",
   "metadata": {},
   "outputs": [
    {
     "name": "stdout",
     "output_type": "stream",
     "text": [
      "Precision: 1.0\n",
      "[0, 0, 0, 1, 1, 0, 0, 0, 0, 0]\n",
      "[0, 0, 0, 1, 1] [0, 0, 0, 0, 0]\n",
      "2.0\n",
      "-1.0\n"
     ]
    }
   ],
   "source": [
    "a_test = -16\n",
    "b_test = 32+a_test # b-a needs to be power of 2\n",
    "accuracy = 5\n",
    "Q = H(A,B, R = accuracy, a = a_test, b = b_test)\n",
    "Q_qubo = qv.utils.matrix_to_qubo(Q)\n",
    "#print(Q)\n",
    "#Q_qubo.solve_bruteforce()\n",
    "\n",
    "state = qv.sim.anneal_qubo(Q_qubo, num_anneals = 100*2**accuracy)\n",
    "res = list(state.best.state.values())\n",
    "print(res)\n",
    "x1 = res[:accuracy]\n",
    "x2 = res[accuracy:accuracy*2]\n",
    "print(x1,x2)\n",
    "print(ConvertSolution_old(x1,a_test,b_test))\n",
    "print(ConvertSolution_old(x2,a_test,b_test))"
   ]
  },
  {
   "cell_type": "code",
   "execution_count": null,
   "id": "5853a283",
   "metadata": {},
   "outputs": [],
   "source": [
    "\n",
    "    \n",
    "    \n",
    "    \n",
    "#     strengths = np.empty((N*R, N*R))\n",
    "#     for r in range(R):\n",
    "#         sub_block = np.empty((R, R))\n",
    "#         if r>0:\n",
    "#             sub_block = np.concatenate([sub_block, np.zeros((R,R*r))], axis=1)\n",
    "#         for s in range(R):\n",
    "#             block = 4 * 2**(-r-s) * MTM\n",
    "#             print(sub_block,'\\n')\n",
    "#             sub_block = np.concatenate([sub_block, block], axis=1)\n",
    "#         print(strengths,'\\n')\n",
    "#         strengths = np.concatenate([sub_block, block], axis=0)\n",
    "#     print(strengths)\n",
    "    \n",
    "    "
   ]
  },
  {
   "cell_type": "code",
   "execution_count": null,
   "id": "3d5001e8",
   "metadata": {},
   "outputs": [],
   "source": []
  },
  {
   "cell_type": "code",
   "execution_count": 10,
   "id": "e4f2aaae",
   "metadata": {},
   "outputs": [
    {
     "ename": "IndexError",
     "evalue": "tuple index out of range",
     "output_type": "error",
     "traceback": [
      "\u001b[1;31m---------------------------------------------------------------------------\u001b[0m",
      "\u001b[1;31mIndexError\u001b[0m                                Traceback (most recent call last)",
      "Input \u001b[1;32mIn [10]\u001b[0m, in \u001b[0;36m<cell line: 4>\u001b[1;34m()\u001b[0m\n\u001b[0;32m      1\u001b[0m A \u001b[38;5;241m=\u001b[39m np\u001b[38;5;241m.\u001b[39marray([[\u001b[38;5;241m2\u001b[39m, \u001b[38;5;241m-\u001b[39m\u001b[38;5;241m1\u001b[39m], [\u001b[38;5;241m3\u001b[39m, \u001b[38;5;241m1\u001b[39m]])\n\u001b[0;32m      2\u001b[0m b \u001b[38;5;241m=\u001b[39m np\u001b[38;5;241m.\u001b[39marray([\u001b[38;5;241m3\u001b[39m,\u001b[38;5;241m2\u001b[39m])\n\u001b[1;32m----> 4\u001b[0m Q \u001b[38;5;241m=\u001b[39m \u001b[43mH\u001b[49m\u001b[43m(\u001b[49m\u001b[38;5;241;43m2\u001b[39;49m\u001b[43m,\u001b[49m\u001b[38;5;241;43m2\u001b[39;49m\u001b[43m,\u001b[49m\u001b[43m \u001b[49m\u001b[43mA\u001b[49m\u001b[43m,\u001b[49m\u001b[43m \u001b[49m\u001b[43mb\u001b[49m\u001b[43m)\u001b[49m\n\u001b[0;32m      5\u001b[0m \u001b[38;5;28mprint\u001b[39m(Q)\n\u001b[0;32m      7\u001b[0m qubo \u001b[38;5;241m=\u001b[39m qv\u001b[38;5;241m.\u001b[39mutils\u001b[38;5;241m.\u001b[39mmatrix_to_qubo(Q)\n",
      "Input \u001b[1;32mIn [7]\u001b[0m, in \u001b[0;36mH\u001b[1;34m(M, y, R, a, b)\u001b[0m\n\u001b[0;32m      2\u001b[0m \u001b[38;5;124;03m'''\u001b[39;00m\n\u001b[0;32m      3\u001b[0m \u001b[38;5;124;03mM and y come from problem Mx-y\u001b[39;00m\n\u001b[0;32m      4\u001b[0m \u001b[38;5;124;03mR is precision, ie number of qubits\u001b[39;00m\n\u001b[0;32m      5\u001b[0m \u001b[38;5;124;03ma, b endpoints of desired range, a < b, [a,b)\u001b[39;00m\n\u001b[0;32m      6\u001b[0m \u001b[38;5;124;03m'''\u001b[39;00m\n\u001b[0;32m      8\u001b[0m \u001b[38;5;66;03m# Think I need Q to be upper triangular, how best to do this?\u001b[39;00m\n\u001b[0;32m      9\u001b[0m \u001b[38;5;66;03m# Need to add in the multiplication by pho part as well!!\u001b[39;00m\n\u001b[0;32m     10\u001b[0m \n\u001b[0;32m     11\u001b[0m \u001b[38;5;66;03m# Save the dimension of problem as N\u001b[39;00m\n\u001b[1;32m---> 12\u001b[0m N \u001b[38;5;241m=\u001b[39m \u001b[43mnp\u001b[49m\u001b[38;5;241;43m.\u001b[39;49m\u001b[43mshape\u001b[49m\u001b[43m(\u001b[49m\u001b[43my\u001b[49m\u001b[43m)\u001b[49m\u001b[43m[\u001b[49m\u001b[38;5;241;43m0\u001b[39;49m\u001b[43m]\u001b[49m\n\u001b[0;32m     14\u001b[0m \u001b[38;5;66;03m# Define the midpoint of the range, hard coded atm\u001b[39;00m\n\u001b[0;32m     15\u001b[0m gamma \u001b[38;5;241m=\u001b[39m (b \u001b[38;5;241m-\u001b[39m a)\u001b[38;5;241m/\u001b[39m\u001b[38;5;241m2\u001b[39m\n",
      "\u001b[1;31mIndexError\u001b[0m: tuple index out of range"
     ]
    }
   ],
   "source": [
    "A = np.array([[2, -1], [3, 1]])\n",
    "b = np.array([3,2])\n",
    "\n",
    "Q = H(2,2, A, b)\n",
    "print(Q)\n",
    "\n",
    "qubo = qv.utils.matrix_to_qubo(Q)1\n",
    "print(qubo.pretty_str())\n",
    "\n",
    "qubo.solve_bruteforce()\n",
    "\n",
    "res = qv.sim.anneal_qubo(qv.utils.matrix_to_qubo(Q), num_anneals=10)\n",
    "\n",
    "print(res.best)"
   ]
  },
  {
   "cell_type": "code",
   "execution_count": 9,
   "id": "cb4bd250",
   "metadata": {},
   "outputs": [
    {
     "ename": "NameError",
     "evalue": "name 'get_Q' is not defined",
     "output_type": "error",
     "traceback": [
      "\u001b[1;31m---------------------------------------------------------------------------\u001b[0m",
      "\u001b[1;31mNameError\u001b[0m                                 Traceback (most recent call last)",
      "Input \u001b[1;32mIn [9]\u001b[0m, in \u001b[0;36m<cell line: 4>\u001b[1;34m()\u001b[0m\n\u001b[0;32m      1\u001b[0m A \u001b[38;5;241m=\u001b[39m np\u001b[38;5;241m.\u001b[39marray([[\u001b[38;5;241m-\u001b[39m\u001b[38;5;241m7\u001b[39m, \u001b[38;5;241m-\u001b[39m\u001b[38;5;241m2\u001b[39m], [\u001b[38;5;241m6\u001b[39m, \u001b[38;5;241m3\u001b[39m]])\n\u001b[0;32m      2\u001b[0m b \u001b[38;5;241m=\u001b[39m np\u001b[38;5;241m.\u001b[39marray([\u001b[38;5;241m-\u001b[39m\u001b[38;5;241m4\u001b[39m,\u001b[38;5;241m-\u001b[39m\u001b[38;5;241m5\u001b[39m])\n\u001b[1;32m----> 4\u001b[0m Q \u001b[38;5;241m=\u001b[39m \u001b[43mget_Q\u001b[49m(\u001b[38;5;241m3\u001b[39m,\u001b[38;5;241m2\u001b[39m, A, b)\n\u001b[0;32m      5\u001b[0m \u001b[38;5;28mprint\u001b[39m(Q)\n\u001b[0;32m      6\u001b[0m qubo \u001b[38;5;241m=\u001b[39m qv\u001b[38;5;241m.\u001b[39mutils\u001b[38;5;241m.\u001b[39mmatrix_to_qubo(Q)\n",
      "\u001b[1;31mNameError\u001b[0m: name 'get_Q' is not defined"
     ]
    }
   ],
   "source": [
    "A = np.array([[-7, -2], [6, 3]])\n",
    "b = np.array([-4,-5])\n",
    "\n",
    "Q = get_Q(3,2, A, b)\n",
    "print(Q)\n",
    "qubo = qv.utils.matrix_to_qubo(Q)\n",
    "print(qubo.pretty_str())\n",
    "\n",
    "print(qubo.solve_bruteforce())\n",
    "\n",
    "res = qv.sim.anneal_qubo(qv.utils.matrix_to_qubo(Q), num_anneals=10)\n",
    "\n",
    "print(res.best)"
   ]
  },
  {
   "cell_type": "code",
   "execution_count": null,
   "id": "1dd7230e",
   "metadata": {},
   "outputs": [],
   "source": []
  },
  {
   "cell_type": "code",
   "execution_count": null,
   "id": "f049920e",
   "metadata": {},
   "outputs": [],
   "source": []
  }
 ],
 "metadata": {
  "kernelspec": {
   "display_name": "Python 3 (ipykernel)",
   "language": "python",
   "name": "python3"
  },
  "language_info": {
   "codemirror_mode": {
    "name": "ipython",
    "version": 3
   },
   "file_extension": ".py",
   "mimetype": "text/x-python",
   "name": "python",
   "nbconvert_exporter": "python",
   "pygments_lexer": "ipython3",
   "version": "3.9.12"
  }
 },
 "nbformat": 4,
 "nbformat_minor": 5
}
