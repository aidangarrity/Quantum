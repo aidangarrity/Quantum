{
 "cells": [
  {
   "cell_type": "code",
   "execution_count": 1,
   "id": "5eb40066",
   "metadata": {},
   "outputs": [],
   "source": [
    "import pyqubo as pq\n",
    "import numpy as np\n",
    "import qubovert as qv"
   ]
  },
  {
   "cell_type": "code",
   "execution_count": 3,
   "id": "40846221",
   "metadata": {},
   "outputs": [
    {
     "name": "stdout",
     "output_type": "stream",
     "text": [
      "[[0. 0. 0. 0. 0.]\n",
      " [0. 0. 0. 0. 0.]\n",
      " [0. 0. 0. 0. 0.]]\n"
     ]
    },
    {
     "data": {
      "text/plain": [
       "array([[0., 0., 0., 1., 0.],\n",
       "       [0., 1., 0., 1., 0.],\n",
       "       [1., 0., 1., 1., 1.]])"
      ]
     },
     "execution_count": 3,
     "metadata": {},
     "output_type": "execute_result"
    }
   ],
   "source": [
    "def chi(precision, number):\n",
    "    # number must be between 0 and 2\n",
    "    q = np.zeros((number.size, precision))\n",
    "    print(q)\n",
    "    for i in range(len(number)):\n",
    "        for r in range(precision):\n",
    "            if number[i] < 2**(-r):\n",
    "                q[i,r]=0\n",
    "            else:\n",
    "                q[i,r]=1\n",
    "                number[i] -= 2**(-r)\n",
    "    return q\n",
    "\n",
    "test = np.array([.126,.6721,1.46])\n",
    "chi(5, test)\n",
    "\n",
    "\n"
   ]
  },
  {
   "cell_type": "code",
   "execution_count": 60,
   "id": "1f725027",
   "metadata": {},
   "outputs": [
    {
     "name": "stdout",
     "output_type": "stream",
     "text": [
      "0.921875\n",
      "-1.0\n"
     ]
    }
   ],
   "source": [
    "\n",
    "\n",
    "def H(M, y, R = 2, a = -1, b = 3):\n",
    "    '''\n",
    "    M and y come from problem Mx-y\n",
    "    R is precision, ie number of qubits\n",
    "    a, b endpoints of desired range, a < b, [a,b)\n",
    "    '''\n",
    "    \n",
    "    # Think I need Q to be upper triangular, how best to do this?\n",
    "    # Need to add in the multiplication by pho part as well!!\n",
    "    \n",
    "    # Save the dimension of problem as N\n",
    "    N = np.shape(y)[0]\n",
    "\n",
    "    # Define the midpoint of the range, hard coded atm\n",
    "    gamma = (b - a)/2\n",
    "    pho = gamma ** 2\n",
    "    \n",
    "    #Intialise Q as vector of zeros \n",
    "    Q = np.zeros((N * R, N * R))\n",
    "    \n",
    "    # First term \n",
    "    for i in range(N):\n",
    "        #print(f'i is {i}')\n",
    "        for r in range(R):\n",
    "            #print(f'r is {r}')\n",
    "            for j in range(N):\n",
    "                # print(f'j is {j}')\n",
    "                for s in range(R):\n",
    "                    # print(f's is {s}')\n",
    "                    for k in range(N):\n",
    "                        # print(f'k is {k}')\n",
    "                        \n",
    "                        # Update relevant entry of Q\n",
    "                        Q[i * R + r,j * R + s] += (2 ** (-r-s)) * M[k,i] * M[k,j] * pho\n",
    "                        \n",
    "                        \n",
    "    # Second term\n",
    "    # Loop over each number \n",
    "    for i in range(N):\n",
    "        # Loop over each qubit encoding said number\n",
    "        for r in range(R):\n",
    "            # Loop of k for matrix multiplication in index form\n",
    "            for k in range(N):\n",
    "                Q[i * R + r, i * R + r] += (2 ** (-r)) * M[k,i] * M[k,i] * -2 * gamma \n",
    "                \n",
    "    # Third term\n",
    "    # Loop over each number\n",
    "    for i in range(N):\n",
    "        # Loop over j for the matrix multiplication\n",
    "        for j in range(N):\n",
    "            # Loop over each qubit encoding the number\n",
    "            for r in range(R):\n",
    "                Q[i * R + r, i * R + r] +=  (2 ** (-r)) * M[j,i] * y[j]  * -2 * gamma \n",
    "                \n",
    "                \n",
    "    # Fourth term (necessary?)\n",
    "    for i in range(N):\n",
    "        for j in range(N):\n",
    "            Q\n",
    "    \n",
    "    # Make Q upper triangular\n",
    "    return Q+np.triu(Q)-np.tril(Q)\n",
    "\n",
    "A = np.array([[2,-1],[3,1]])\n",
    "B = np.array([3,2])\n",
    "a_test = -1\n",
    "b_test = 3\n",
    "accuracy = 10\n",
    "Q = H(A,B, R = accuracy, a = a_test, b = b_test)\n",
    "Q_qubo = qv.utils.matrix_to_qubo(Q)\n",
    "#Q_qubo.solve_bruteforce()\n",
    "\n",
    "res = list(qv.sim.anneal_qubo(Q_qubo, num_anneals = 1000).best.state.values())\n",
    "x1 = res[:accuracy]\n",
    "x2 = res[accuracy:]\n",
    "\n",
    "print(ConvertSolution(x1,a_test,b_test))\n",
    "print(ConvertSolution(x2,a_test,b_test))"
   ]
  },
  {
   "cell_type": "code",
   "execution_count": 15,
   "id": "7556ac1d",
   "metadata": {},
   "outputs": [
    {
     "data": {
      "text/plain": [
       "0.921875"
      ]
     },
     "execution_count": 15,
     "metadata": {},
     "output_type": "execute_result"
    }
   ],
   "source": [
    "def ConvertSolution(q, a, b):\n",
    "    '''\n",
    "    Function to convert an array of qubits into a real number\n",
    "    '''\n",
    "    \n",
    "    # Store length of q vector\n",
    "    n = np.shape(q)[0]\n",
    "    \n",
    "    # Initialise chi\n",
    "    chi = 0\n",
    "    \n",
    "    for i in range(n):\n",
    "        chi += (2 ** (-i)) * q[i]\n",
    "                \n",
    "    gamma = (b - a)/2\n",
    "    \n",
    "    x = gamma * chi + a\n",
    "    \n",
    "    return x\n",
    "    \n",
    "    \n",
    "    \n",
    "ConvertSolution([0, 1, 1, 1, 1, 0, 1, 1, 0, 0], -1, 3)"
   ]
  },
  {
   "cell_type": "code",
   "execution_count": 10,
   "id": "e4f2aaae",
   "metadata": {},
   "outputs": [
    {
     "name": "stdout",
     "output_type": "stream",
     "text": [
      "[[-11.  52.   0.   0.   2.   4.  -2.  -4.]\n",
      " [  0.   4.   0.   0.   4.   8.  -4.  -8.]\n",
      " [  0.   0.  37.  52.  -2.  -4.   2.   4.]\n",
      " [  0.   0.   0. 100.  -4.  -8.   4.   8.]\n",
      " [  0.   0.   0.   0.   4.   8.   0.   0.]\n",
      " [  0.   0.   0.   0.   0.  12.   0.   0.]\n",
      " [  0.   0.   0.   0.   0.   0.   0.   8.]\n",
      " [  0.   0.   0.   0.   0.   0.   0.   4.]]\n",
      "-11.0 x(0) + 52.0 x(0) x(1) + 2.0 x(0) x(4) + 4.0 x(0) x(5) - 2.0 x(0) x(6) - 4.0 x(0) x(7) + 4.0 x(1) + 4.0 x(1) x(4) + 8.0 x(1) x(5) - 4.0 x(1) x(6) - 8.0 x(1) x(7) + 37.0 x(2) + 52.0 x(2) x(3) - 2.0 x(2) x(4) - 4.0 x(2) x(5) + 2.0 x(2) x(6) + 4.0 x(2) x(7) + 100.0 x(3) - 4.0 x(3) x(4) - 8.0 x(3) x(5) + 4.0 x(3) x(6) + 8.0 x(3) x(7) + 4.0 x(4) + 8.0 x(4) x(5) + 12.0 x(5) + 8.0 x(6) x(7) + 4.0 x(7)\n",
      "  state: {0: 1, 1: 0, 2: 0, 3: 0, 4: 0, 5: 0, 6: 1, 7: 0}\n",
      "  value: -13\n",
      "   spin: False\n"
     ]
    }
   ],
   "source": [
    "A = np.array([[2, -1], [3, 1]])\n",
    "b = np.array([3,2])\n",
    "\n",
    "Q = get_Q(2,2, A, b)\n",
    "print(Q)\n",
    "\n",
    "qubo = qv.utils.matrix_to_qubo(Q)\n",
    "print(qubo.pretty_str())\n",
    "\n",
    "qubo.solve_bruteforce()\n",
    "\n",
    "res = qv.sim.anneal_qubo(qv.utils.matrix_to_qubo(Q), num_anneals=10)\n",
    "\n",
    "print(res.best)"
   ]
  },
  {
   "cell_type": "code",
   "execution_count": 9,
   "id": "cb4bd250",
   "metadata": {},
   "outputs": [
    {
     "name": "stdout",
     "output_type": "stream",
     "text": [
      "[[  89.  340.  680.    0.   64.  128.  192. -128. -256.    0.    0.    0.]\n",
      " [   0.  348. 1360.    0.  128.  256.  384. -256. -512.    0.    0.    0.]\n",
      " [   0.    0. 1457.  340.  872.  384.  576. -384. -768.    0.    0.    0.]\n",
      " [   0.    0.    0.  332. 1232. -256. -384.  256.  512.    0.    0.    0.]\n",
      " [   0.    0.    0.    0. 1115. -460. -664.  512. 1024.    0.    0.    0.]\n",
      " [   0.    0.    0.    0.    0.   80.  208.    0.    0.    0.    0.    0.]\n",
      " [   0.    0.    0.    0.    0.    0.  263.   52.  104.    0.    0.    0.]\n",
      " [   0.    0.    0.    0.    0.    0.    0.   24.  208.    0.    0.    0.]\n",
      " [   0.    0.    0.    0.    0.    0.    0.    0.  152.    0.    0.    0.]\n",
      " [   0.    0.    0.    0.    0.    0.    0.    0.    0.    0.    0.    0.]\n",
      " [   0.    0.    0.    0.    0.    0.    0.    0.    0.    0.    0.    0.]\n",
      " [   0.    0.    0.    0.    0.    0.    0.    0.    0.    0.    0.    0.]]\n",
      "89.0 x(0) + 340.0 x(0) x(1) + 680.0 x(0) x(2) + 64.0 x(0) x(4) + 128.0 x(0) x(5) + 192.0 x(0) x(6) - 128.0 x(0) x(7) - 256.0 x(0) x(8) + 348.0 x(1) + 1360.0 x(1) x(2) + 128.0 x(1) x(4) + 256.0 x(1) x(5) + 384.0 x(1) x(6) - 256.0 x(1) x(7) - 512.0 x(1) x(8) + 1457.0 x(2) + 340.0 x(2) x(3) + 872.0 x(2) x(4) + 384.0 x(2) x(5) + 576.0 x(2) x(6) - 384.0 x(2) x(7) - 768.0 x(2) x(8) + 332.0 x(3) + 1232.0 x(3) x(4) - 256.0 x(3) x(5) - 384.0 x(3) x(6) + 256.0 x(3) x(7) + 512.0 x(3) x(8) + 1115.0 x(4) - 460.0 x(4) x(5) - 664.0 x(4) x(6) + 512.0 x(4) x(7) + 1024.0 x(4) x(8) + 80.0 x(5) + 208.0 x(5) x(6) + 263.0 x(6) + 52.0 x(6) x(7) + 104.0 x(6) x(8) + 24.0 x(7) + 208.0 x(7) x(8) + 152.0 x(8)\n",
      "{0: 0, 1: 1, 2: 0, 3: 0, 4: 0, 5: 0, 6: 0, 7: 1, 8: 1}\n",
      "  state: {0: 0, 1: 1, 2: 0, 3: 0, 4: 0, 5: 0, 6: 0, 7: 1, 8: 1}\n",
      "  value: -36\n",
      "   spin: False\n"
     ]
    }
   ],
   "source": [
    "A = np.array([[-7, -2], [6, 3]])\n",
    "b = np.array([-4,-5])\n",
    "\n",
    "Q = get_Q(3,2, A, b)\n",
    "print(Q)\n",
    "qubo = qv.utils.matrix_to_qubo(Q)\n",
    "print(qubo.pretty_str())\n",
    "\n",
    "print(qubo.solve_bruteforce())\n",
    "\n",
    "res = qv.sim.anneal_qubo(qv.utils.matrix_to_qubo(Q), num_anneals=10)\n",
    "\n",
    "print(res.best)"
   ]
  }
 ],
 "metadata": {
  "kernelspec": {
   "display_name": "Python 3 (ipykernel)",
   "language": "python",
   "name": "python3"
  },
  "language_info": {
   "codemirror_mode": {
    "name": "ipython",
    "version": 3
   },
   "file_extension": ".py",
   "mimetype": "text/x-python",
   "name": "python",
   "nbconvert_exporter": "python",
   "pygments_lexer": "ipython3",
   "version": "3.9.12"
  }
 },
 "nbformat": 4,
 "nbformat_minor": 5
}
