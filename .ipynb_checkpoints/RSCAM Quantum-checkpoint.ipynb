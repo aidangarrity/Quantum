{
 "cells": [
  {
   "cell_type": "code",
   "execution_count": 2,
   "id": "1b9d99f6",
   "metadata": {},
   "outputs": [
    {
     "name": "stdout",
     "output_type": "stream",
     "text": [
      "Collecting qubovert\n",
      "  Downloading qubovert-1.2.5-cp39-cp39-win_amd64.whl (167 kB)\n",
      "Requirement already satisfied: numpy in c:\\users\\trist\\anaconda3\\lib\\site-packages (from qubovert) (1.21.5)\n",
      "Installing collected packages: qubovert\n",
      "Successfully installed qubovert-1.2.5\n"
     ]
    }
   ],
   "source": [
    "!pip install qubovert"
   ]
  },
  {
   "cell_type": "code",
   "execution_count": 1,
   "id": "5eb40066",
   "metadata": {},
   "outputs": [],
   "source": [
    "import pyqubo as pq\n",
    "import numpy as np\n",
    "import qubovert as qv"
   ]
  },
  {
   "cell_type": "code",
   "execution_count": 2,
   "id": "40846221",
   "metadata": {},
   "outputs": [
    {
     "name": "stdout",
     "output_type": "stream",
     "text": [
      "[[0. 0. 0. 0. 0.]\n",
      " [0. 0. 0. 0. 0.]\n",
      " [0. 0. 0. 0. 0.]]\n"
     ]
    },
    {
     "data": {
      "text/plain": [
       "array([[0., 0., 0., 1., 0.],\n",
       "       [0., 1., 0., 1., 0.],\n",
       "       [1., 0., 1., 1., 1.]])"
      ]
     },
     "execution_count": 2,
     "metadata": {},
     "output_type": "execute_result"
    }
   ],
   "source": [
    "def chi(precision, number):\n",
    "    # number must be between 0 and 2\n",
    "    q = np.zeros((number.size, precision))\n",
    "    print(q)\n",
    "    for i in range(len(number)):\n",
    "        for r in range(precision):\n",
    "            if number[i] < 2**(-r):\n",
    "                q[i,r]=0\n",
    "            else:\n",
    "                q[i,r]=1\n",
    "                number[i] -= 2**(-r)\n",
    "    return q\n",
    "\n",
    "test = np.array([.126,.6721,1.46])\n",
    "chi(5, test)\n",
    "\n",
    "\n"
   ]
  },
  {
   "cell_type": "code",
   "execution_count": 180,
   "id": "7556ac1d",
   "metadata": {},
   "outputs": [
    {
     "name": "stdout",
     "output_type": "stream",
     "text": [
      "13.5\n"
     ]
    },
    {
     "data": {
      "text/plain": [
       "array([6.5])"
      ]
     },
     "execution_count": 180,
     "metadata": {},
     "output_type": "execute_result"
    }
   ],
   "source": [
    "def ConvertSolution_old(q, a, b):\n",
    "    '''\n",
    "    Function to convert an array of qubits into a real number \n",
    "    '''\n",
    "    \n",
    "    # Store length of q vector\n",
    "    n = np.shape(q)[0]\n",
    "    \n",
    "    # Initialise chi\n",
    "    chi = 0\n",
    "    \n",
    "    for i in range(n):\n",
    "        chi += (2 ** (-i)) * q[i]\n",
    "    #print('.',chi)\n",
    "    \n",
    "    gamma = (b - a)/2\n",
    "    x = gamma * chi - 1\n",
    "    \n",
    "    return x\n",
    "\n",
    "def ConvertSolution(q, a, b):\n",
    "    '''\n",
    "    Vectorised function to convert an array of an array of qubits into an array of real numbers\n",
    "    '''\n",
    "    q = np.array(q)\n",
    "    \n",
    "    if len(np.shape(q))==1: # Backwards compatibility\n",
    "        q = np.array([q])\n",
    "        #return ConvertSolution_old(q,a,b)\n",
    "    \n",
    "    # Convert to binary\n",
    "    shape = q.shape # shape\n",
    "    powers = 2.**np.arange(0,-shape[-1],-1) # powers of 2 in descending\n",
    "    chi = np.sum(q*powers,axis=1) # multiply in\n",
    "    #print('.',chi)\n",
    "    \n",
    "    # Scale and shift\n",
    "    gamma = (b - a)/2\n",
    "    #print(gamma)\n",
    "    x = gamma * chi + a\n",
    "    \n",
    "    return x\n",
    "\n",
    "    \n",
    "    \n",
    "#ConvertSolution([0, 1, 1, 1, 1, 0, 1, 1, 0, 0], -1, 3)\n",
    "print(ConvertSolution_old([1,1,1,0,1], -8, 8))\n",
    "ConvertSolution([1,1,1,0,1], -8, 8)"
   ]
  },
  {
   "cell_type": "code",
   "execution_count": null,
   "id": "a1b590df",
   "metadata": {},
   "outputs": [],
   "source": []
  },
  {
   "cell_type": "code",
   "execution_count": 105,
   "id": "1f725027",
   "metadata": {},
   "outputs": [
    {
     "name": "stdout",
     "output_type": "stream",
     "text": [
      "Precision: 1.0\n",
      "[0, 0, 0, 1, 0, 0, 0, 0, 0, 0]\n",
      "[0, 0, 0, 1, 0] [0, 0, 0, 0, 0]\n",
      "[1.]\n",
      "[-1.]\n"
     ]
    }
   ],
   "source": [
    "\n",
    "\n",
    "def H(M, y, R = 2, a = -1, b = 3):\n",
    "    '''\n",
    "    M and y come from problem Mx-y\n",
    "    R is bit-precision, ie number of qubits\n",
    "    a, b endpoints of desired range, a < b, [a,b)\n",
    "    \n",
    "    https://arxiv.org/pdf/1901.06526.pdf Section 3\n",
    "    '''\n",
    "    \n",
    "    # Think I need Q to be upper triangular, how best to do this?\n",
    "    # Need to add in the multiplication by pho 🍜 part as well!!\n",
    "    \n",
    "    \n",
    "    # Save the dimension of problem as N\n",
    "    N = np.shape(y)[0]\n",
    "\n",
    "    # Define the midpoint of the range, hard coded atm\n",
    "    gamma = (b - a)/2\n",
    "    pho = gamma ** 2\n",
    "    #print(gamma,pho)\n",
    "    print('Precision:',(b-a)/2**R)\n",
    "    \n",
    "    #Intialise Q as vector of zeros \n",
    "    Q = np.zeros((N * R, N * R))\n",
    "    \n",
    "    # First term \n",
    "    for i in range(N):\n",
    "        #print(f'i is {i}')\n",
    "        for r in range(R):\n",
    "            #print(f'r is {r}')\n",
    "            for j in range(N):\n",
    "                # print(f'j is {j}')\n",
    "                for s in range(R):\n",
    "                    # print(f's is {s}')\n",
    "                    for k in range(N):\n",
    "                        # print(f'k is {k}')\n",
    "                        \n",
    "                        # Update relevant entry of Q\n",
    "                        Q[i * R + r,j * R + s] += (2 ** (-r-s)) * M[k,i] * M[k,j] * pho\n",
    "                        \n",
    "                        \n",
    "    # Second term\n",
    "    # Loop over each number \n",
    "    for i in range(N):\n",
    "        # Loop over each qubit encoding said number\n",
    "        for r in range(R):\n",
    "            # Loop of k for matrix multiplication in index form\n",
    "            for k in range(N):\n",
    "                Q[i * R + r, i * R + r] += (2 ** (-r)) * M[k,i] * M[k,i] * -2 * gamma \n",
    "                \n",
    "    # Third term\n",
    "    # Loop over each number\n",
    "    for i in range(N):\n",
    "        # Loop over j for the matrix multiplication\n",
    "        for j in range(N):\n",
    "            # Loop over each qubit encoding the number\n",
    "            for r in range(R):\n",
    "                Q[i * R + r, i * R + r] +=  (2 ** (-r)) * M[j,i] * y[j]  * -2 * gamma \n",
    "                \n",
    "                \n",
    "#     # Fourth term (necessary?)\n",
    "#     for i in range(N):\n",
    "#         for j in range(N):\n",
    "#             Q\n",
    "    \n",
    "    # Make Q upper triangular\n",
    "    return Q+np.triu(Q)-np.tril(Q)\n",
    "\n",
    "A = np.array([[2,-1],[3,1]])\n",
    "B = np.array([3,2]) #soln = 1,-1\n",
    "\n",
    "\n",
    "a_test = -16\n",
    "b_test = 32+a_test # b-a needs to be power of 2\n",
    "accuracy = 5\n",
    "Q = H(A,B, R = accuracy, a = a_test, b = b_test)\n",
    "Q_qubo = qv.utils.matrix_to_qubo(Q)\n",
    "#print(Q)\n",
    "#Q_qubo.solve_bruteforce()\n",
    "\n",
    "state = qv.sim.anneal_qubo(Q_qubo, num_anneals = 100*2**accuracy)\n",
    "res = list(state.best.state.values())\n",
    "print(res)\n",
    "x1 = res[:accuracy]\n",
    "x2 = res[accuracy:accuracy*2]\n",
    "print(x1,x2)\n",
    "print(ConvertSolution(x1,a_test,b_test))\n",
    "print(ConvertSolution(x2,a_test,b_test))"
   ]
  },
  {
   "cell_type": "code",
   "execution_count": 189,
   "id": "7bd448c0",
   "metadata": {},
   "outputs": [
    {
     "name": "stdout",
     "output_type": "stream",
     "text": [
      "Precision: 1.0\n",
      "[[0 0 0 1 0]\n",
      " [0 0 0 0 0]]\n",
      "[-14. -16.]\n"
     ]
    }
   ],
   "source": [
    "def anneal(A,B,accuracy,a,b):\n",
    "    '''Outputs solution to Ax=b''' \n",
    "    # Err catch\n",
    "    assert a<b, 'a needs to be less than b'\n",
    "\n",
    "    # Calculation\n",
    "    Q = H(A,B, R = accuracy, a = a, b = b) # Get Q\n",
    "    Q_qubo = qv.utils.matrix_to_qubo(Q) # Convert to qubo\n",
    "    state = qv.sim.anneal_qubo(Q_qubo, num_anneals = 100*2**accuracy) # Pass to anneal\n",
    "    res = np.array(list(state.best.state.values())) # Result\n",
    "    x = res.reshape((len(res)//accuracy,accuracy)) # Split result for each component\n",
    "    print(x)\n",
    "    sol = ConvertSolution(x,a_test,b_test) # Convert each component to decimal\n",
    "    return sol\n",
    "\n",
    "\n",
    "A = np.array([[2,-1],[3,1]])\n",
    "B = np.array([3,2]) #soln = 1,-1\n",
    "sol = anneal(A,B,5,-16,16)\n",
    "print(sol)"
   ]
  },
  {
   "cell_type": "code",
   "execution_count": 188,
   "id": "a83f140b",
   "metadata": {},
   "outputs": [
    {
     "name": "stdout",
     "output_type": "stream",
     "text": [
      "Precision: 1.0\n",
      "[[0 0 0 1 1]\n",
      " [0 0 0 0 0]]\n",
      "[ 2. -1.]\n"
     ]
    }
   ],
   "source": [
    "A = np.array([[2,-1],[3,1]])\n",
    "A = np.eye(2)\n",
    "C = np.array([2,-2]) \n",
    "B = A@C\n",
    "sol = anneal(A,B,5,-16,16)\n",
    "print(sol)"
   ]
  },
  {
   "cell_type": "code",
   "execution_count": 319,
   "id": "78464cd4",
   "metadata": {},
   "outputs": [
    {
     "ename": "AssertionError",
     "evalue": "dont run below",
     "output_type": "error",
     "traceback": [
      "\u001b[1;31m---------------------------------------------------------------------------\u001b[0m",
      "\u001b[1;31mAssertionError\u001b[0m                            Traceback (most recent call last)",
      "Input \u001b[1;32mIn [319]\u001b[0m, in \u001b[0;36m<cell line: 1>\u001b[1;34m()\u001b[0m\n\u001b[1;32m----> 1\u001b[0m \u001b[38;5;28;01massert\u001b[39;00m \u001b[38;5;241m1\u001b[39m\u001b[38;5;241m==\u001b[39m\u001b[38;5;241m0\u001b[39m, \u001b[38;5;124m'\u001b[39m\u001b[38;5;124mdont run below\u001b[39m\u001b[38;5;124m'\u001b[39m\n\u001b[0;32m      3\u001b[0m \u001b[38;5;28;01mdef\u001b[39;00m \u001b[38;5;21mH\u001b[39m(M, y, R \u001b[38;5;241m=\u001b[39m \u001b[38;5;241m2\u001b[39m, a \u001b[38;5;241m=\u001b[39m \u001b[38;5;241m-\u001b[39m\u001b[38;5;241m1\u001b[39m, b \u001b[38;5;241m=\u001b[39m \u001b[38;5;241m3\u001b[39m):\n\u001b[0;32m      4\u001b[0m     \u001b[38;5;124;03m'''\u001b[39;00m\n\u001b[0;32m      5\u001b[0m \u001b[38;5;124;03m    M and y come from problem Mx-y\u001b[39;00m\n\u001b[0;32m      6\u001b[0m \u001b[38;5;124;03m    R is bit-precision, ie number of qubits\u001b[39;00m\n\u001b[1;32m   (...)\u001b[0m\n\u001b[0;32m      9\u001b[0m \u001b[38;5;124;03m    https://arxiv.org/pdf/1901.06526.pdf Section 3, eq 3.17-18\u001b[39;00m\n\u001b[0;32m     10\u001b[0m \u001b[38;5;124;03m    '''\u001b[39;00m \n",
      "\u001b[1;31mAssertionError\u001b[0m: dont run below"
     ]
    }
   ],
   "source": [
    "assert 1==0, 'dont run below'\n",
    "\n",
    "def H(M, y, R = 2, a = -1, b = 3):\n",
    "    '''\n",
    "    M and y come from problem Mx-y\n",
    "    R is bit-precision, ie number of qubits\n",
    "    a, b endpoints of desired range, a < b, [a,b)\n",
    "    \n",
    "    https://arxiv.org/pdf/1901.06526.pdf Section 3, eq 3.17-18\n",
    "    ''' \n",
    "    \n",
    "    # Save the dimension of problem as N\n",
    "    N = np.shape(y)[0]\n",
    "\n",
    "    # Define the midpoint of the range, hard coded atm\n",
    "    gamma = (b - a)/2\n",
    "    pho = gamma ** 2\n",
    "    #print(gamma,pho)\n",
    "    print('Precision:',(b-a)/2**R)\n",
    "    \n",
    "    #Intialise Q as vector of zeros \n",
    "    Q = np.zeros((N * R, N * R))\n",
    "    \n",
    "    def ising_a(i,r):\n",
    "        \n",
    "        a_ir = 4 * 2**(-r) * np\n",
    "        return a_ir\n",
    "\n",
    "#     def ising_b(i,j,r,s):\n",
    "#         M_ki = M[:,i]\n",
    "#         M_kj = M[:,j]\n",
    "#         b_ijrs = 4 * 2**(-r-s) * np.dot(M_ki,M_kj)\n",
    "#         return b_ijrs\n",
    "\n",
    "    # Compute strengths\n",
    "    MTM = M.T@M\n",
    "    \n",
    "    strengths = np.zeros_like(Q)\n",
    "    for r in range(R):\n",
    "        for s in range(R):\n",
    "            block = 4 * 2**(-r-s) * MTM\n",
    "            ind_s = np.arange(N)*R + s\n",
    "            ind_r = np.arange(N)*R + r\n",
    "            strengths[np.ix_(ind_s, ind_r)] = block\n",
    "            #strengths[np.meshgrid(ind_s, ind_r)] = block\n",
    "    \n",
    "#     strengths = np.empty((N*R, N*R))\n",
    "#     for r in range(R):\n",
    "#         sub_block = np.empty((R, R))\n",
    "#         if r>0:\n",
    "#             sub_block = np.concatenate([sub_block, np.zeros((R,R*r))], axis=1)\n",
    "#         for s in range(R):\n",
    "#             block = 4 * 2**(-r-s) * MTM\n",
    "#             print(sub_block,'\\n')\n",
    "#             sub_block = np.concatenate([sub_block, block], axis=1)\n",
    "#         print(strengths,'\\n')\n",
    "#         strengths = np.concatenate([sub_block, block], axis=0)\n",
    "#     print(strengths)\n",
    "    \n",
    "    \n",
    "    \n",
    "    \n",
    "    # Make Q upper triangular\n",
    "    return Q+np.triu(Q)-np.tril(Q)\n",
    "\n",
    "A = np.array([[2,-1],[3,1]])\n",
    "#A = np.eye(2)\n",
    "C = np.array([2,-2]) \n",
    "B = A@C\n",
    "sol = anneal(A,B,5,-16,16)\n",
    "print(sol)"
   ]
  },
  {
   "cell_type": "code",
   "execution_count": 314,
   "id": "823373bf",
   "metadata": {},
   "outputs": [
    {
     "data": {
      "text/plain": [
       "array([[1., 0.],\n",
       "       [0., 1.]])"
      ]
     },
     "execution_count": 314,
     "metadata": {},
     "output_type": "execute_result"
    }
   ],
   "source": [
    "A"
   ]
  },
  {
   "cell_type": "code",
   "execution_count": 167,
   "id": "c4909d7f",
   "metadata": {},
   "outputs": [
    {
     "name": "stdout",
     "output_type": "stream",
     "text": [
      "Precision: 1.0\n",
      "[0, 0, 0, 1, 1, 0, 0, 0, 0, 0]\n",
      "[0, 0, 0, 1, 1] [0, 0, 0, 0, 0]\n",
      "2.0\n",
      "-1.0\n"
     ]
    }
   ],
   "source": [
    "a_test = -16\n",
    "b_test = 32+a_test # b-a needs to be power of 2\n",
    "accuracy = 5\n",
    "Q = H(A,B, R = accuracy, a = a_test, b = b_test)\n",
    "Q_qubo = qv.utils.matrix_to_qubo(Q)\n",
    "#print(Q)\n",
    "#Q_qubo.solve_bruteforce()\n",
    "\n",
    "state = qv.sim.anneal_qubo(Q_qubo, num_anneals = 100*2**accuracy)\n",
    "res = list(state.best.state.values())\n",
    "print(res)\n",
    "x1 = res[:accuracy]\n",
    "x2 = res[accuracy:accuracy*2]\n",
    "print(x1,x2)\n",
    "print(ConvertSolution_old(x1,a_test,b_test))\n",
    "print(ConvertSolution_old(x2,a_test,b_test))"
   ]
  },
  {
   "cell_type": "code",
   "execution_count": null,
   "id": "a98a4e01",
   "metadata": {},
   "outputs": [],
   "source": []
  },
  {
   "cell_type": "code",
   "execution_count": null,
   "id": "39156c71",
   "metadata": {},
   "outputs": [],
   "source": []
  },
  {
   "cell_type": "code",
   "execution_count": 10,
   "id": "e4f2aaae",
   "metadata": {},
   "outputs": [
    {
     "ename": "IndexError",
     "evalue": "tuple index out of range",
     "output_type": "error",
     "traceback": [
      "\u001b[1;31m---------------------------------------------------------------------------\u001b[0m",
      "\u001b[1;31mIndexError\u001b[0m                                Traceback (most recent call last)",
      "Input \u001b[1;32mIn [10]\u001b[0m, in \u001b[0;36m<cell line: 4>\u001b[1;34m()\u001b[0m\n\u001b[0;32m      1\u001b[0m A \u001b[38;5;241m=\u001b[39m np\u001b[38;5;241m.\u001b[39marray([[\u001b[38;5;241m2\u001b[39m, \u001b[38;5;241m-\u001b[39m\u001b[38;5;241m1\u001b[39m], [\u001b[38;5;241m3\u001b[39m, \u001b[38;5;241m1\u001b[39m]])\n\u001b[0;32m      2\u001b[0m b \u001b[38;5;241m=\u001b[39m np\u001b[38;5;241m.\u001b[39marray([\u001b[38;5;241m3\u001b[39m,\u001b[38;5;241m2\u001b[39m])\n\u001b[1;32m----> 4\u001b[0m Q \u001b[38;5;241m=\u001b[39m \u001b[43mH\u001b[49m\u001b[43m(\u001b[49m\u001b[38;5;241;43m2\u001b[39;49m\u001b[43m,\u001b[49m\u001b[38;5;241;43m2\u001b[39;49m\u001b[43m,\u001b[49m\u001b[43m \u001b[49m\u001b[43mA\u001b[49m\u001b[43m,\u001b[49m\u001b[43m \u001b[49m\u001b[43mb\u001b[49m\u001b[43m)\u001b[49m\n\u001b[0;32m      5\u001b[0m \u001b[38;5;28mprint\u001b[39m(Q)\n\u001b[0;32m      7\u001b[0m qubo \u001b[38;5;241m=\u001b[39m qv\u001b[38;5;241m.\u001b[39mutils\u001b[38;5;241m.\u001b[39mmatrix_to_qubo(Q)\n",
      "Input \u001b[1;32mIn [7]\u001b[0m, in \u001b[0;36mH\u001b[1;34m(M, y, R, a, b)\u001b[0m\n\u001b[0;32m      2\u001b[0m \u001b[38;5;124;03m'''\u001b[39;00m\n\u001b[0;32m      3\u001b[0m \u001b[38;5;124;03mM and y come from problem Mx-y\u001b[39;00m\n\u001b[0;32m      4\u001b[0m \u001b[38;5;124;03mR is precision, ie number of qubits\u001b[39;00m\n\u001b[0;32m      5\u001b[0m \u001b[38;5;124;03ma, b endpoints of desired range, a < b, [a,b)\u001b[39;00m\n\u001b[0;32m      6\u001b[0m \u001b[38;5;124;03m'''\u001b[39;00m\n\u001b[0;32m      8\u001b[0m \u001b[38;5;66;03m# Think I need Q to be upper triangular, how best to do this?\u001b[39;00m\n\u001b[0;32m      9\u001b[0m \u001b[38;5;66;03m# Need to add in the multiplication by pho part as well!!\u001b[39;00m\n\u001b[0;32m     10\u001b[0m \n\u001b[0;32m     11\u001b[0m \u001b[38;5;66;03m# Save the dimension of problem as N\u001b[39;00m\n\u001b[1;32m---> 12\u001b[0m N \u001b[38;5;241m=\u001b[39m \u001b[43mnp\u001b[49m\u001b[38;5;241;43m.\u001b[39;49m\u001b[43mshape\u001b[49m\u001b[43m(\u001b[49m\u001b[43my\u001b[49m\u001b[43m)\u001b[49m\u001b[43m[\u001b[49m\u001b[38;5;241;43m0\u001b[39;49m\u001b[43m]\u001b[49m\n\u001b[0;32m     14\u001b[0m \u001b[38;5;66;03m# Define the midpoint of the range, hard coded atm\u001b[39;00m\n\u001b[0;32m     15\u001b[0m gamma \u001b[38;5;241m=\u001b[39m (b \u001b[38;5;241m-\u001b[39m a)\u001b[38;5;241m/\u001b[39m\u001b[38;5;241m2\u001b[39m\n",
      "\u001b[1;31mIndexError\u001b[0m: tuple index out of range"
     ]
    }
   ],
   "source": [
    "A = np.array([[2, -1], [3, 1]])\n",
    "b = np.array([3,2])\n",
    "\n",
    "Q = H(2,2, A, b)\n",
    "print(Q)\n",
    "\n",
    "qubo = qv.utils.matrix_to_qubo(Q)1\n",
    "print(qubo.pretty_str())\n",
    "\n",
    "qubo.solve_bruteforce()\n",
    "\n",
    "res = qv.sim.anneal_qubo(qv.utils.matrix_to_qubo(Q), num_anneals=10)\n",
    "\n",
    "print(res.best)"
   ]
  },
  {
   "cell_type": "code",
   "execution_count": 9,
   "id": "cb4bd250",
   "metadata": {},
   "outputs": [
    {
     "ename": "NameError",
     "evalue": "name 'get_Q' is not defined",
     "output_type": "error",
     "traceback": [
      "\u001b[1;31m---------------------------------------------------------------------------\u001b[0m",
      "\u001b[1;31mNameError\u001b[0m                                 Traceback (most recent call last)",
      "Input \u001b[1;32mIn [9]\u001b[0m, in \u001b[0;36m<cell line: 4>\u001b[1;34m()\u001b[0m\n\u001b[0;32m      1\u001b[0m A \u001b[38;5;241m=\u001b[39m np\u001b[38;5;241m.\u001b[39marray([[\u001b[38;5;241m-\u001b[39m\u001b[38;5;241m7\u001b[39m, \u001b[38;5;241m-\u001b[39m\u001b[38;5;241m2\u001b[39m], [\u001b[38;5;241m6\u001b[39m, \u001b[38;5;241m3\u001b[39m]])\n\u001b[0;32m      2\u001b[0m b \u001b[38;5;241m=\u001b[39m np\u001b[38;5;241m.\u001b[39marray([\u001b[38;5;241m-\u001b[39m\u001b[38;5;241m4\u001b[39m,\u001b[38;5;241m-\u001b[39m\u001b[38;5;241m5\u001b[39m])\n\u001b[1;32m----> 4\u001b[0m Q \u001b[38;5;241m=\u001b[39m \u001b[43mget_Q\u001b[49m(\u001b[38;5;241m3\u001b[39m,\u001b[38;5;241m2\u001b[39m, A, b)\n\u001b[0;32m      5\u001b[0m \u001b[38;5;28mprint\u001b[39m(Q)\n\u001b[0;32m      6\u001b[0m qubo \u001b[38;5;241m=\u001b[39m qv\u001b[38;5;241m.\u001b[39mutils\u001b[38;5;241m.\u001b[39mmatrix_to_qubo(Q)\n",
      "\u001b[1;31mNameError\u001b[0m: name 'get_Q' is not defined"
     ]
    }
   ],
   "source": [
    "A = np.array([[-7, -2], [6, 3]])\n",
    "b = np.array([-4,-5])\n",
    "\n",
    "Q = get_Q(3,2, A, b)\n",
    "print(Q)\n",
    "qubo = qv.utils.matrix_to_qubo(Q)\n",
    "print(qubo.pretty_str())\n",
    "\n",
    "print(qubo.solve_bruteforce())\n",
    "\n",
    "res = qv.sim.anneal_qubo(qv.utils.matrix_to_qubo(Q), num_anneals=10)\n",
    "\n",
    "print(res.best)"
   ]
  },
  {
   "cell_type": "code",
   "execution_count": null,
   "id": "e27bf784",
   "metadata": {},
   "outputs": [],
   "source": []
  },
  {
   "cell_type": "code",
   "execution_count": null,
   "id": "3e56d2f0",
   "metadata": {},
   "outputs": [],
   "source": []
  }
 ],
 "metadata": {
  "kernelspec": {
   "display_name": "Python 3 (ipykernel)",
   "language": "python",
   "name": "python3"
  },
  "language_info": {
   "codemirror_mode": {
    "name": "ipython",
    "version": 3
   },
   "file_extension": ".py",
   "mimetype": "text/x-python",
   "name": "python",
   "nbconvert_exporter": "python",
   "pygments_lexer": "ipython3",
   "version": "3.9.12"
  }
 },
 "nbformat": 4,
 "nbformat_minor": 5
}
