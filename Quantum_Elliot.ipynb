{
 "cells": [
  {
   "cell_type": "code",
   "execution_count": 1,
   "id": "10fbd219",
   "metadata": {},
   "outputs": [],
   "source": [
    "import numpy as np"
   ]
  },
  {
   "cell_type": "code",
   "execution_count": 28,
   "id": "c328d65d",
   "metadata": {},
   "outputs": [],
   "source": [
    "A = np.array([[3,1],[4,2]])\n",
    "B = np.array([2,2])"
   ]
  },
  {
   "cell_type": "code",
   "execution_count": 57,
   "id": "48b62a4e",
   "metadata": {},
   "outputs": [
    {
     "data": {
      "text/plain": [
       "array([[-61.  ,  12.5 ,  11.  ,   5.5 ],\n",
       "       [ 12.5 , -36.75,   5.5 ,   2.75],\n",
       "       [ 11.  ,   5.5 ,  -9.  ,   2.5 ],\n",
       "       [  5.5 ,   2.75,   2.5 ,  -5.75]])"
      ]
     },
     "execution_count": 57,
     "metadata": {},
     "output_type": "execute_result"
    }
   ],
   "source": [
    "def H(M, y, R = 2, a = 1, b = 5):\n",
    "    '''\n",
    "    M and y come from problem Mx-y\n",
    "    R is precision, ie number of qubits\n",
    "    a, b endpoints of desired range, a < b\n",
    "    '''\n",
    "    \n",
    "    # Think I need Q to be upper triangular, how best to do this?\n",
    "    # Need to add in the multiplication by pho part as well!!\n",
    "    \n",
    "    # Save the dimension of problem as N\n",
    "    N = np.shape(y)[0]\n",
    "\n",
    "    # Define the midpoint of the range, hard coded atm\n",
    "    gamma = 2\n",
    "    pho = gamma ** 2\n",
    "    \n",
    "    #Intialise Q as vector of zeros \n",
    "    Q = np.zeros((N * R, N * R))\n",
    "    \n",
    "    # First term \n",
    "    for i in range(N):\n",
    "        #print(f'i is {i}')\n",
    "        for r in range(R):\n",
    "            #print(f'r is {r}')\n",
    "            for j in range(N):\n",
    "                # print(f'j is {j}')\n",
    "                for s in range(R):\n",
    "                    # print(f's is {s}')\n",
    "                    for k in range(N):\n",
    "                        # print(f'k is {k}')\n",
    "                        \n",
    "                        # Update relevant entry of Q\n",
    "                        Q[i * R + r,j * R + s] += 2 ** (-r-s) * M[k,i] * M[k,j]\n",
    "                        \n",
    "                        \n",
    "    # Second term\n",
    "    # Loop over each number \n",
    "    for i in range(N):\n",
    "        # Loop over each qubit encoding said number\n",
    "        for r in range(R):\n",
    "            # Loop of k for matrix multiplication in index form\n",
    "            for k in range(N):\n",
    "                Q[i * R + r, i * R + r] += -4 * 2 ** (-r) * M[k,i] * M[k,i]\n",
    "                \n",
    "    # Third term\n",
    "    # Loop over each number\n",
    "    for i in range(N):\n",
    "        # Loop over j for the matrix multiplication\n",
    "        for j in range(N):\n",
    "            # Loop over each qubit encoding the number\n",
    "            for r in range(R):\n",
    "                Q[i * R + r, i * R + r] += 2 ** (-r) * M[j,i] * y[j]\n",
    "                \n",
    "                \n",
    "    # Fourth term \n",
    "    \n",
    "    \n",
    "    return Q\n",
    "\n",
    "H(A,B)    \n"
   ]
  }
 ],
 "metadata": {
  "kernelspec": {
   "display_name": "Python 3 (ipykernel)",
   "language": "python",
   "name": "python3"
  },
  "language_info": {
   "codemirror_mode": {
    "name": "ipython",
    "version": 3
   },
   "file_extension": ".py",
   "mimetype": "text/x-python",
   "name": "python",
   "nbconvert_exporter": "python",
   "pygments_lexer": "ipython3",
   "version": "3.9.12"
  }
 },
 "nbformat": 4,
 "nbformat_minor": 5
}
