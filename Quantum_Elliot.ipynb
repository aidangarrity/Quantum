{
 "cells": [
  {
   "cell_type": "code",
   "execution_count": 62,
   "id": "0c3c5951",
   "metadata": {},
   "outputs": [],
   "source": [
    "import numpy as np\n",
    "import qubovert as qv"
   ]
  },
  {
   "cell_type": "code",
   "execution_count": 100,
   "id": "45f88cb4",
   "metadata": {},
   "outputs": [],
   "source": [
    "A = np.array([[2,-1],[3,1]])\n",
    "B = np.array([3,2])"
   ]
  },
  {
   "cell_type": "code",
   "execution_count": 122,
   "id": "0483d5b1",
   "metadata": {},
   "outputs": [
    {
     "data": {
      "text/plain": [
       "dict_values([0, 0, 1, 1, 1, 1, 1, 1, 0, 1, 0, 0, 0, 0, 0, 0])"
      ]
     },
     "execution_count": 122,
     "metadata": {},
     "output_type": "execute_result"
    }
   ],
   "source": [
    "def H(M, y, R = 2, a = -1, b = 3):\n",
    "    '''\n",
    "    M and y come from problem Mx-y\n",
    "    R is precision, ie number of qubits\n",
    "    a, b endpoints of desired range, a < b, [a,b)\n",
    "    '''\n",
    "    \n",
    "    # Think I need Q to be upper triangular, how best to do this?\n",
    "    # Need to add in the multiplication by pho part as well!!\n",
    "    \n",
    "    # Save the dimension of problem as N\n",
    "    N = np.shape(y)[0]\n",
    "\n",
    "    # Define the midpoint of the range, hard coded atm\n",
    "    gamma = (b - a)/2\n",
    "    pho = gamma ** 2\n",
    "    \n",
    "    #Intialise Q as vector of zeros \n",
    "    Q = np.zeros((N * R, N * R))\n",
    "    \n",
    "    # First term \n",
    "    for i in range(N):\n",
    "        #print(f'i is {i}')\n",
    "        for r in range(R):\n",
    "            #print(f'r is {r}')\n",
    "            for j in range(N):\n",
    "                # print(f'j is {j}')\n",
    "                for s in range(R):\n",
    "                    # print(f's is {s}')\n",
    "                    for k in range(N):\n",
    "                        # print(f'k is {k}')\n",
    "                        \n",
    "                        # Update relevant entry of Q\n",
    "                        Q[i * R + r,j * R + s] += pho * (2 ** (-r-s)) * M[k,i] * M[k,j]\n",
    "                        \n",
    "                        \n",
    "    # Second term\n",
    "    # Loop over each number \n",
    "    for i in range(N):\n",
    "        # Loop over each qubit encoding said number\n",
    "        for r in range(R):\n",
    "            # Loop of k for matrix multiplication in index form\n",
    "            for k in range(N):\n",
    "                Q[i * R + r, i * R + r] += -2 * gamma * (2 ** (-r)) * M[k,i] * M[k,i]\n",
    "                \n",
    "    # Third term\n",
    "    # Loop over each number\n",
    "    for i in range(N):\n",
    "        # Loop over j for the matrix multiplication\n",
    "        for j in range(N):\n",
    "            # Loop over each qubit encoding the number\n",
    "            for r in range(R):\n",
    "                Q[i * R + r, i * R + r] += -2 * gamma * (2 ** (-r)) * M[j,i] * y[j]\n",
    "                \n",
    "                \n",
    "    # Make Q upper triangular\n",
    "    \n",
    "    \n",
    "    return Q+np.triu(Q)-np.tril(Q)\n",
    "\n",
    "H(A,B)    \n",
    "\n",
    "\n",
    "\n",
    "\n",
    "Q = H(A,B, R = 8)\n",
    "Q_qubo = qv.utils.matrix_to_qubo(Q)\n",
    "#Q_qubo.solve_bruteforce()\n",
    "\n",
    "qv.sim.anneal_qubo(Q_qubo, num_anneals = 10).best.state.values()\n",
    "\n"
   ]
  },
  {
   "cell_type": "code",
   "execution_count": 126,
   "id": "2db8f1b1",
   "metadata": {
    "scrolled": true
   },
   "outputs": [
    {
     "data": {
      "text/plain": [
       "0.75"
      ]
     },
     "execution_count": 126,
     "metadata": {},
     "output_type": "execute_result"
    }
   ],
   "source": [
    "def ConvertSolution(q, a, b):\n",
    "    '''\n",
    "    Function to convert an array of qubits into a real number\n",
    "    '''\n",
    "    \n",
    "    # Store length of q vector\n",
    "    n = np.shape(q)[0]\n",
    "    \n",
    "    # Initialise chi\n",
    "    chi = 0\n",
    "    \n",
    "    for i in range(n):\n",
    "        chi += (2 ** (-i)) * q[i]\n",
    "                \n",
    "    gamma = (b - a)/2\n",
    "    \n",
    "    x = gamma * chi + a\n",
    "    \n",
    "    return x\n",
    "    \n",
    "    \n",
    "    \n",
    "ConvertSolution([0, 1, 1, 1, 0, 0, 0, 0], -1, 3)"
   ]
  },
  {
   "cell_type": "code",
   "execution_count": null,
   "id": "47c00b92",
   "metadata": {},
   "outputs": [],
   "source": []
  }
 ],
 "metadata": {
  "kernelspec": {
   "display_name": "Python 3 (ipykernel)",
   "language": "python",
   "name": "python3"
  },
  "language_info": {
   "codemirror_mode": {
    "name": "ipython",
    "version": 3
   },
   "file_extension": ".py",
   "mimetype": "text/x-python",
   "name": "python",
   "nbconvert_exporter": "python",
   "pygments_lexer": "ipython3",
   "version": "3.9.12"
  }
 },
 "nbformat": 4,
 "nbformat_minor": 5
}
